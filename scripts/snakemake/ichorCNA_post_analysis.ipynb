{
 "cells": [
  {
   "cell_type": "code",
   "execution_count": 1,
   "id": "dad04913-282e-4666-95ce-43236f918ea5",
   "metadata": {},
   "outputs": [],
   "source": [
    "import os\n",
    "import zipfile\n",
    "import numpy as np\n",
    "import pandas as pd"
   ]
  },
  {
   "cell_type": "code",
   "execution_count": 2,
   "id": "ec831096-2e39-4c69-ab44-f8e046eb012d",
   "metadata": {},
   "outputs": [],
   "source": [
    "def extract_tf_data(results_dir):\n",
    "    \"\"\"\n",
    "    Extracts relevant data from ichorCNA results' params.txt files.\n",
    "\n",
    "    Parameters:\n",
    "    - results_dir (str): Path to the directory containing ichorCNA results folders.\n",
    "\n",
    "    Returns:\n",
    "    - DataFrame: A Pandas DataFrame containing extracted data.\n",
    "    \"\"\"\n",
    "\n",
    "    # Columns for the resulting DataFrame\n",
    "    columns = [\"library\", \"tumor_fraction\", \"ploidy\", \"gender\", \"ChrY_coverage_fraction\", \"ChrX_median_log_ratio\"]\n",
    "    \n",
    "    # Initialize a list to store extracted data dictionaries\n",
    "    data_list = []\n",
    "    \n",
    "    # Iterating through each folder in the results directory\n",
    "    for sample_folder in os.listdir(results_dir):\n",
    "        sample_path = os.path.join(results_dir, sample_folder)\n",
    "        \n",
    "        # Confirming that it's a folder\n",
    "        if os.path.isdir(sample_path):\n",
    "            # Searching for the params.txt file with .params.txt extension\n",
    "            for file_name in os.listdir(sample_path):\n",
    "                if file_name.endswith(\".params.txt\"):\n",
    "                    params_file_path = os.path.join(sample_path, file_name)\n",
    "                    break  # Exit the loop once we find the first .params.txt file\n",
    "            else:  # No params.txt file found\n",
    "                print(f\"No params.txt file found for sample: {sample_folder}\")\n",
    "                continue\n",
    "            \n",
    "            # Extracting data from params.txt\n",
    "            with open(params_file_path, \"r\") as file:\n",
    "                # Initialize a dictionary to store extracted data\n",
    "                data = {\"library\": sample_folder}\n",
    "                \n",
    "                # Iterating through each line in params.txt to extract data\n",
    "                for line in file:\n",
    "                    line = line.strip()  # Remove leading/trailing whitespace\n",
    "                    if \"Gender:\" in line:\n",
    "                        data[\"gender\"] = line.split(\":\")[1].strip()\n",
    "                    elif \"Tumor Fraction:\" in line:\n",
    "                        value = line.split(\":\")[1].strip()\n",
    "                        data[\"tumor_fraction\"] = float(value) if value != 'NA' else np.nan\n",
    "                    elif \"Ploidy:\" in line:\n",
    "                        value = line.split(\":\")[1].strip()\n",
    "                        data[\"ploidy\"] = float(value) if value != 'NA' else np.nan\n",
    "                    elif \"ChrY coverage fraction:\" in line:\n",
    "                        value = line.split(\":\")[1].strip()\n",
    "                        data[\"ChrY_coverage_fraction\"] = float(value) if value != 'NA' else np.nan\n",
    "                    elif \"ChrX median log ratio:\" in line:\n",
    "                        value = line.split(\":\")[1].strip()\n",
    "                        data[\"ChrX_median_log_ratio\"] = float(value) if value != 'NA' else np.nan\n",
    "                \n",
    "                # Adding extracted data to the data list\n",
    "                data_list.append(data)\n",
    "                    \n",
    "    # Convert the list of data dictionaries to a DataFrame\n",
    "    result_df = pd.DataFrame(data_list, columns=columns).sort_values('library').reset_index(drop = True)\n",
    "    \n",
    "    return result_df"
   ]
  },
  {
   "cell_type": "code",
   "execution_count": 3,
   "id": "c3dcdee1-3af1-4b7b-9919-c2f43c853000",
   "metadata": {},
   "outputs": [],
   "source": [
    "import os\n",
    "import pandas as pd\n",
    "\n",
    "def extract_cna_data(parent_directory, logR_column_choice=\"logR_Copy_Number\"):\n",
    "    # Initialize an empty list to store the data\n",
    "    data = []\n",
    "\n",
    "    # Traverse through each item in the parent directory\n",
    "    for item in os.listdir(parent_directory):\n",
    "        item_path = os.path.join(parent_directory, item)\n",
    "        \n",
    "        if os.path.isdir(item_path):\n",
    "            # Traverse through files in the library folder\n",
    "            for file_name in os.listdir(item_path):\n",
    "                if file_name.endswith(\".cna.seg\"):\n",
    "                    library = file_name.replace(\".cna.seg\", \"\")\n",
    "                    cna_seg_file = os.path.join(item_path, file_name)\n",
    "                    \n",
    "                    if os.path.isfile(cna_seg_file):\n",
    "                        # Read the cna.seg file\n",
    "                        df = pd.read_csv(cna_seg_file, sep=\"\\t\")\n",
    "                        \n",
    "                        # Dynamically identify the column name for the chosen logR column\n",
    "                        logR_column = f\"{library}.{logR_column_choice}\"\n",
    "                        \n",
    "                        if logR_column in df.columns:\n",
    "                            # Extract the required columns\n",
    "                            required_columns = ['chr', 'start', 'end', logR_column]\n",
    "                            extracted_data = df.loc[:, required_columns]\n",
    "                            \n",
    "                            # Rename the chosen logR column to a consistent generic name in the output\n",
    "                            extracted_data = extracted_data.rename(columns={logR_column: logR_column_choice})\n",
    "                            \n",
    "                            # Add the library column\n",
    "                            extracted_data['library'] = library\n",
    "                            \n",
    "                            # Append the data to the main list\n",
    "                            data.extend(\n",
    "                                extracted_data[['library', 'chr', 'start', 'end', logR_column_choice]].values.tolist()\n",
    "                            )\n",
    "\n",
    "    # Create a DataFrame from the collected data\n",
    "    combined_df = pd.DataFrame(\n",
    "        data, \n",
    "        columns=['library', 'chr', 'start', 'end', logR_column_choice]\n",
    "    ).sort_values(by=['library', 'chr', 'start', 'end']).reset_index(drop=True)\n",
    "\n",
    "    return combined_df"
   ]
  },
  {
   "cell_type": "code",
   "execution_count": 4,
   "id": "b74750ac-7e2f-4710-9a8d-a87a817265b3",
   "metadata": {},
   "outputs": [],
   "source": [
    "def create_params_zip(results_dir, output_zip):\n",
    "    \"\"\"\n",
    "    Creates a zip file containing all .params.txt files from ichorCNA results.\n",
    "\n",
    "    Parameters:\n",
    "    - results_dir (str): Path to the directory containing ichorCNA results folders.\n",
    "    - output_zip (str): Path to the output zip file.\n",
    "    \"\"\"\n",
    "    with zipfile.ZipFile(output_zip, 'w') as zipf:\n",
    "        # Iterating through each folder in the results directory\n",
    "        for sample_folder in os.listdir(results_dir):\n",
    "            sample_path = os.path.join(results_dir, sample_folder)\n",
    "            \n",
    "            # Confirming that it's a folder\n",
    "            if os.path.isdir(sample_path):\n",
    "                # Searching for the params.txt file with .params.txt extension\n",
    "                for file_name in os.listdir(sample_path):\n",
    "                    if file_name.endswith(\".params.txt\"):\n",
    "                        params_file_path = os.path.join(sample_path, file_name)\n",
    "                        zipf.write(params_file_path, arcname=file_name)\n",
    "                        break  # Exit the loop once we find the first .params.txt file\n",
    "                else:  # No params.txt file found\n",
    "                    print(f\"No params.txt file found for sample: {sample_folder}\")"
   ]
  },
  {
   "cell_type": "code",
   "execution_count": 5,
   "id": "b1143fe3-9f66-4345-a9b9-dfc62472edab",
   "metadata": {},
   "outputs": [],
   "source": [
    "def create_cna_seg_zip(results_dir, output_zip):\n",
    "    \"\"\"\n",
    "    Creates a zip file containing all .cna.seg files from ichorCNA results.\n",
    "\n",
    "    Parameters:\n",
    "    - results_dir (str): Path to the directory containing ichorCNA results folders.\n",
    "    - output_zip (str): Path to the output zip file.\n",
    "    \"\"\"\n",
    "    with zipfile.ZipFile(output_zip, 'w') as zipf:\n",
    "        # Iterating through each folder in the results directory\n",
    "        for sample_folder in os.listdir(results_dir):\n",
    "            sample_path = os.path.join(results_dir, sample_folder)\n",
    "            \n",
    "            # Confirming that it's a folder\n",
    "            if os.path.isdir(sample_path):\n",
    "                # Searching for the params.txt file with .cna.seg extension\n",
    "                for file_name in os.listdir(sample_path):\n",
    "                    if file_name.endswith(\".cna.seg\"):\n",
    "                        params_file_path = os.path.join(sample_path, file_name)\n",
    "                        zipf.write(params_file_path, arcname=file_name)\n",
    "                        break  # Exit the loop once we find the first .cna.seg file\n",
    "                else:  # No cna.seg file found\n",
    "                    print(f\"No cna.seg file found for sample: {sample_folder}\")"
   ]
  },
  {
   "cell_type": "code",
   "execution_count": 6,
   "id": "448cea90-3fec-42fe-8bae-123147800968",
   "metadata": {},
   "outputs": [],
   "source": [
    "results_dir = \"/aclm350-zpool1/jlinford/bioinfo_software/ichorCNA/scripts/snakemake/results_no_trim_low_1Mb_Taylor/ichorCNA\""
   ]
  },
  {
   "cell_type": "code",
   "execution_count": null,
   "id": "f53a2805-3a01-4db6-a84b-ab44c689702f",
   "metadata": {},
   "outputs": [],
   "source": [
    "tf_data = extract_tf_data(results_dir)\n",
    "tf_data['library'] = tf_data['library'].str.replace('_filt.bam', '',regex=False)\n",
    "tf_data"
   ]
  },
  {
   "cell_type": "code",
   "execution_count": null,
   "id": "5eab0513-2766-45d9-be2c-1e4b0375aae8",
   "metadata": {},
   "outputs": [],
   "source": [
    "cna_data_logR = extract_cna_data(results_dir, logR_column_choice = \"logR\")\n",
    "cna_data_logR['library'] = cna_data_logR['library'].str.replace('_filt.bam', '',regex = False)\n",
    "cna_data_logR"
   ]
  },
  {
   "cell_type": "code",
   "execution_count": null,
   "id": "6b5bb6a0",
   "metadata": {},
   "outputs": [],
   "source": [
    "cna_data_logR_Copy_Number = extract_cna_data(results_dir, logR_column_choice = \"logR_Copy_Number\")\n",
    "cna_data_logR_Copy_Number['library'] = cna_data_logR['library'].str.replace('_filt.bam', '',regex = False)\n",
    "cna_data_logR_Copy_Number"
   ]
  },
  {
   "cell_type": "code",
   "execution_count": null,
   "id": "217c8fb1-f762-4fa3-9afa-39455a285887",
   "metadata": {},
   "outputs": [],
   "source": [
    "cna_matrix_logR = cna_data_logR.pivot(index=['chr', 'start', 'end'], columns='library', values='logR').reset_index()\n",
    "cna_matrix_logR.columns.name = None\n",
    "cna_matrix_logR"
   ]
  },
  {
   "cell_type": "code",
   "execution_count": null,
   "id": "8e6bc9d6",
   "metadata": {},
   "outputs": [],
   "source": [
    "cna_matrix_logR_Copy_Number = cna_data_logR_Copy_Number.pivot(index=['chr', 'start', 'end'], columns='library', values='logR_Copy_Number').reset_index()\n",
    "cna_matrix_logR_Copy_Number.columns.name = None\n",
    "cna_matrix_logR_Copy_Number"
   ]
  },
  {
   "cell_type": "code",
   "execution_count": 10,
   "id": "08b04622-1e20-4695-889d-9ef09378fde6",
   "metadata": {},
   "outputs": [],
   "source": [
    "tf_data.to_csv('/home/jupyter/jlinford/urine/analysis/tf_low_1Mb.txt', sep = '\\t', index = False)"
   ]
  },
  {
   "cell_type": "code",
   "execution_count": 34,
   "id": "dac4f7be-671f-4ccf-b2fe-5607b8a386c7",
   "metadata": {},
   "outputs": [],
   "source": [
    "cna_data_logR.to_csv('/home/jupyter/jlinford/urine/analysis/cna_logR_long_lowtumor_1Mb.txt', sep = '\\t', index = False)"
   ]
  },
  {
   "cell_type": "code",
   "execution_count": null,
   "id": "6c9b72f4",
   "metadata": {},
   "outputs": [],
   "source": [
    "cna_data_logR_Copy_Number.to_csv('/home/jupyter/jlinford/urine/analysis/cna_logR_Copy_Number_long_lowtumor_1Mb.txt', sep = '\\t', index = False)"
   ]
  },
  {
   "cell_type": "code",
   "execution_count": 35,
   "id": "2448008e-3b66-4d08-b01e-9801ee8dac9e",
   "metadata": {},
   "outputs": [],
   "source": [
    "# cna_matrix_logR.to_csv('/home/jupyter/jlinford/urine/analysis/cna_logR_matrix_lowtumor_1Mb.txt', sep = '\\t', index = False)"
   ]
  },
  {
   "cell_type": "code",
   "execution_count": null,
   "id": "c4b33d12",
   "metadata": {},
   "outputs": [],
   "source": [
    "# cna_matrix_logR_Copy_Number.to_csv('/home/jupyter/jlinford/urine/analysis/cna_logR_Copy_Number_matrix_lowtumor_1Mb.txt', sep = '\\t', index = False)"
   ]
  },
  {
   "cell_type": "code",
   "execution_count": 36,
   "id": "632c0f43-2a0f-48fe-a113-83ded2c0447d",
   "metadata": {},
   "outputs": [],
   "source": [
    "# create_params_zip(results_dir, '/home/jupyter/jlinford/urine/analysis/urine_lowtumor_1Mb_params.zip')"
   ]
  },
  {
   "cell_type": "code",
   "execution_count": 37,
   "id": "e0b35824-41d1-4945-a794-5a7b2e8c78d5",
   "metadata": {},
   "outputs": [],
   "source": [
    "# create_cna_seg_zip(results_dir, '/home/jupyter/jlinford/urine/analysis/urine_lowtumor_1Mb_cna_seg.zip')"
   ]
  }
 ],
 "metadata": {
  "kernelspec": {
   "display_name": "Python 3 (ipykernel)",
   "language": "python",
   "name": "python3"
  },
  "language_info": {
   "codemirror_mode": {
    "name": "ipython",
    "version": 3
   },
   "file_extension": ".py",
   "mimetype": "text/x-python",
   "name": "python",
   "nbconvert_exporter": "python",
   "pygments_lexer": "ipython3",
   "version": "3.11.3"
  }
 },
 "nbformat": 4,
 "nbformat_minor": 5
}
